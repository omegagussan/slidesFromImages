{
 "cells": [
  {
   "cell_type": "code",
   "execution_count": 3,
   "metadata": {},
   "outputs": [],
   "source": [
    "#dependencies\n",
    "import cv2\n",
    "import numpy as np\n",
    "from os import listdir\n",
    "from os.path import isfile, join\n",
    "from matplotlib import pyplot as plt\n",
    "from pptx import Presentation\n",
    "import pptx.util\n",
    "import imageio"
   ]
  },
  {
   "cell_type": "code",
   "execution_count": 4,
   "metadata": {},
   "outputs": [],
   "source": [
    "input_folder = \"./input\"\n",
    "intermediate_results = \"./output\"\n",
    "output_file = \"./my_slides.pptx\""
   ]
  },
  {
   "cell_type": "code",
   "execution_count": 5,
   "metadata": {},
   "outputs": [],
   "source": [
    "SUPPORTED_FORMATS = (\".BMP\", \".DIB\", \".JPEG\", \".JPG\", \".JPE\", \".JP2\", \".PNG\", \".WEBP\", \".PBM\", \".PGM\", \".PPM\", \".SR\", \".RAS\", \".TIFF\", \".TIF\") #tuple\n",
    "def isImage(filename):\n",
    "    return filename.upper().endswith(SUPPORTED_FORMATS)"
   ]
  },
  {
   "cell_type": "code",
   "execution_count": 6,
   "metadata": {},
   "outputs": [
    {
     "data": {
      "text/plain": [
       "['IMG_8499.JPG',\n",
       " 'IMG_8500.JPG',\n",
       " 'IMG_8501.JPG',\n",
       " 'IMG_8502.JPG',\n",
       " 'IMG_8503.JPG',\n",
       " 'IMG_8504.JPG',\n",
       " 'IMG_8505.JPG',\n",
       " 'IMG_8506.JPG',\n",
       " 'IMG_8507.JPG',\n",
       " 'IMG_8508.JPG',\n",
       " 'IMG_8509.JPG',\n",
       " 'IMG_8510.JPG',\n",
       " 'IMG_8511.JPG',\n",
       " 'IMG_8512.JPG',\n",
       " 'IMG_8513.JPG',\n",
       " 'IMG_8514.JPG',\n",
       " 'IMG_8515.JPG',\n",
       " 'IMG_8516.JPG',\n",
       " 'IMG_8517.JPG']"
      ]
     },
     "execution_count": 6,
     "metadata": {},
     "output_type": "execute_result"
    }
   ],
   "source": [
    "#make ordered list of image files files in input folder\n",
    "only_files = [f for f in listdir(input_folder) if isfile(join(input_folder, f))]\n",
    "only_files.sort()\n",
    "only_images = list(filter(lambda x: isImage(x), only_files))\n",
    "only_images"
   ]
  },
  {
   "cell_type": "code",
   "execution_count": 7,
   "metadata": {
    "scrolled": true
   },
   "outputs": [
    {
     "name": "stdout",
     "output_type": "stream",
     "text": [
      "processing: ./input/IMG_8499.JPG\n",
      "processing: ./input/IMG_8500.JPG\n",
      "processing: ./input/IMG_8501.JPG\n",
      "processing: ./input/IMG_8502.JPG\n",
      "processing: ./input/IMG_8503.JPG\n",
      "processing: ./input/IMG_8504.JPG\n",
      "processing: ./input/IMG_8505.JPG\n",
      "processing: ./input/IMG_8506.JPG\n",
      "processing: ./input/IMG_8507.JPG\n",
      "processing: ./input/IMG_8508.JPG\n",
      "processing: ./input/IMG_8509.JPG\n",
      "processing: ./input/IMG_8510.JPG\n",
      "processing: ./input/IMG_8511.JPG\n",
      "processing: ./input/IMG_8512.JPG\n",
      "processing: ./input/IMG_8513.JPG\n",
      "processing: ./input/IMG_8514.JPG\n",
      "processing: ./input/IMG_8515.JPG\n",
      "processing: ./input/IMG_8516.JPG\n",
      "processing: ./input/IMG_8517.JPG\n",
      "images: 19\n",
      "color images: 19\n",
      "keypoints: 19\n",
      "descriptors: 19\n"
     ]
    }
   ],
   "source": [
    "bw_crop_images = []\n",
    "colour_images = []\n",
    "kps = []\n",
    "des = []\n",
    "orb = cv2.ORB_create()\n",
    "\n",
    "for image in only_images:\n",
    "    relative_path = input_folder + \"/\" + image\n",
    "    print(\"processing: \" + relative_path)\n",
    "    img = cv2.imread(relative_path,0)\n",
    "    img_colour = cv2.imread(relative_path)\n",
    "    img = cv2.resize(img, (0,0) ,fx=0.1, fy=0.1)\n",
    "    kp = orb.detect(img,None)\n",
    "    kp, one_des = orb.compute(img, kp)\n",
    "    kps.append(kp)\n",
    "    des.append(one_des)\n",
    "    bw_crop_images.append(img)\n",
    "    colour_images.append(img_colour)\n",
    "    \n",
    "print(\"images: \" + str(len(bw_crop_images)))\n",
    "print(\"color images: \" + str(len(colour_images)))\n",
    "print(\"keypoints: \" + str(len(kps)))\n",
    "print(\"descriptors: \" +  str(len(des)))"
   ]
  },
  {
   "cell_type": "code",
   "execution_count": 16,
   "metadata": {},
   "outputs": [],
   "source": [
    "def getPoints(img):\n",
    "    h2,w2 = img.shape[:2]\n",
    "    return np.float32([[0,0],[0,h2],[w2,h2],[w2,0]]).reshape(-1,1,2)\n",
    "    \n",
    "def rotateTarget(target_pts, H):\n",
    "    return cv2.perspectiveTransform(target_pts, H)\n",
    "\n",
    "def translateAndRotateTargetToSource(source_img, target_img, H):\n",
    "    source_pts = getPoints(source_img)\n",
    "    target_pts = rotateTarget(getPoints(target_img), H)\n",
    "    points = np.concatenate((source_pts, target_pts), axis=0)\n",
    "    [xmin, ymin] = np.int32(points.min(axis=0).ravel() - 0.5)\n",
    "    [xmax, ymax] = np.int32(points.max(axis=0).ravel() + 0.5)\n",
    "    t = [-xmin,-ymin]\n",
    "    Ht = np.array([[1,0,t[0]],[0,1,t[1]],[0,0,1]])\n",
    "    return cv2.warpPerspective(target_img, Ht.dot(H), (xmax-xmin, ymax-ymin))\n",
    "\n",
    "def replacePixelsSourceWithTarget(source_img, target_img):\n",
    "    mask = np.nonzero(target_img)\n",
    "    h1,w1 = source_img.shape[:2]\n",
    "    h2,w2 = target_img.shape[:2]\n",
    "    source_pts = np.float32([[0,0],[0,h1],[w1,h1],[w1,0]]).reshape(-1,1,2)\n",
    "    target_pts = np.float32([[0,0],[0,h2],[w2,h2],[w2,0]]).reshape(-1,1,2)\n",
    "    pts = np.concatenate((source_pts, target_pts), axis=0)\n",
    "    [xmin, ymin] = np.int32(pts.min(axis=0).ravel() - 0.5)\n",
    "    [xmax, ymax] = np.int32(pts.max(axis=0).ravel() + 0.5)\n",
    "    t = [-xmin,-ymin]\n",
    "    joined = np.zeros((ymax-ymin, xmax-xmin))\n",
    "    #print(\"joined\")\n",
    "    #print(joined.shape)\n",
    "    #print(\"source_img\")\n",
    "    #print(source_img.shape)\n",
    "    #print(\"source_hole\")\n",
    "    #print(joined[t[1]:h1+t[1],t[0]:w1+t[0]].shape)\n",
    "    #print(\"target\")\n",
    "    #print(target_img.shape)\n",
    "    #print(\"target_hole\")\n",
    "    #print(joined[:h2, :w2].shape)\n",
    "    #https://stackoverflow.com/questions/26445153/iterations-through-pixels-in-an-image-are-terribly-slow-with-python-opencv\n",
    "    #https://www.pyimagesearch.com/2017/08/28/fast-optimized-for-pixel-loops-with-opencv-and-python/\n",
    "    rows,cols = source_img.shape\n",
    "    for row in range(rows):\n",
    "        for col in range(cols):\n",
    "            joined[t[1]:row+t[1],t[0]:col+t[0]] = source_img[row][col]\n",
    "    joined[:h2, :w2] = target_img\n",
    "    #plt.imshow(joined),plt.show()\n",
    "    return joined"
   ]
  },
  {
   "cell_type": "code",
   "execution_count": 17,
   "metadata": {
    "scrolled": false
   },
   "outputs": [
    {
     "name": "stdout",
     "output_type": "stream",
     "text": [
      "1\n",
      "2\n",
      "3\n",
      "4\n",
      "5\n",
      "6\n",
      "7\n",
      "8\n",
      "9\n",
      "10\n",
      "11\n",
      "12\n",
      "13\n",
      "14\n",
      "15\n",
      "16\n",
      "17\n",
      "18\n"
     ]
    }
   ],
   "source": [
    "bf = cv2.BFMatcher(cv2.NORM_HAMMING, crossCheck=True)\n",
    "image_blob = bw_crop_images[0]\n",
    "cv2.imwrite(intermediate_results + \"/\" + only_images[0] , bw_crop_images[0])\n",
    "\n",
    "homography_vector = []\n",
    "for idx in range(1, len(bw_crop_images)):\n",
    "    print(idx)\n",
    "    #print(\"to process\")\n",
    "    #plt.imshow(bw_crop_images[idx]),plt.show()\n",
    "\n",
    "    blob_kp = orb.detect(image_blob,None)\n",
    "    blob_kp, blob_des = orb.compute(image_blob, blob_kp)\n",
    "    \n",
    "    idx_kp = orb.detect(bw_crop_images[idx],None)\n",
    "    idx_kp, idx_des = orb.compute(bw_crop_images[idx], idx_kp)\n",
    "\n",
    "    matches = bf.match(blob_des, idx_des)\n",
    "    matches = sorted(matches, key = lambda x:x.distance)\n",
    "    \n",
    "    src_pts = np.array([blob_kp[mat.queryIdx].pt for mat in matches])\n",
    "    dst_pts =  np.array([idx_kp[mat.trainIdx].pt for mat in matches])\n",
    "    H = cv2.findHomography(src_pts, dst_pts, cv2.RANSAC,5.0)[0]\n",
    "    rotatedTranslated = translateAndRotateTargetToSource(image_blob, bw_crop_images[idx], H)\n",
    "    #print(\"processed\")\n",
    "    #plt.imshow(rotatedTranslated),plt.show()\n",
    "    #print(\"blob before\")\n",
    "    #plt.imshow(image_blob),plt.show()\n",
    "    image_blob = replacePixelsSourceWithTarget(image_blob, rotatedTranslated).astype('uint8')\n",
    "    #print(\"blob after\")\n",
    "    #plt.imshow(image_blob),plt.show()\n",
    "    cv2.imwrite(intermediate_results + \"/\" + only_images[idx] , rotatedTranslated)\n",
    "\n"
   ]
  },
  {
   "cell_type": "code",
   "execution_count": null,
   "metadata": {},
   "outputs": [],
   "source": [
    "#strech each image to a new slide. Proportions of slide will be keept.\n",
    "prs = Presentation()\n",
    "BLANK_SLIDE = prs.slide_layouts[6]\n",
    "# default slide width\n",
    "#prs.slide_width = 9144000\n",
    "# slide height @ 4:3\n",
    "#prs.slide_height = 6858000\n",
    "# slide height @ 16:9\n",
    "#prs.slide_height = 5143500\n",
    "slideAspectRatio = prs.slide_width/prs.slide_height\n",
    "for image in only_images:\n",
    "    relative_path = intermediate_results + \"/\" + image\n",
    "    slide = prs.slides.add_slide(BLANK_SLIDE)\n",
    "    shapes = slide.shapes\n",
    "    picture = shapes.add_picture(relative_path, 0, 0, prs.slide_width, prs.slide_height)\n",
    "    \n",
    "prs.save(output_file)"
   ]
  },
  {
   "cell_type": "code",
   "execution_count": null,
   "metadata": {},
   "outputs": [],
   "source": []
  }
 ],
 "metadata": {
  "kernelspec": {
   "display_name": "Python 3",
   "language": "python",
   "name": "python3"
  },
  "language_info": {
   "codemirror_mode": {
    "name": "ipython",
    "version": 3
   },
   "file_extension": ".py",
   "mimetype": "text/x-python",
   "name": "python",
   "nbconvert_exporter": "python",
   "pygments_lexer": "ipython3",
   "version": "3.6.5"
  }
 },
 "nbformat": 4,
 "nbformat_minor": 2
}
